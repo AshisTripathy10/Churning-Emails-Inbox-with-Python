{
 "cells": [
  {
   "cell_type": "code",
   "execution_count": 1,
   "metadata": {},
   "outputs": [
    {
     "name": "stdout",
     "output_type": "stream",
     "text": [
      "From stephen.marquard@uct.ac.za Sat Jan  5 09:14:16 2008\r\n",
      "Return-Path: <postmaster@collab.sakaiproject.org>\r\n",
      "Received: from murder (mail.umich.edu [141.211.14.90])\r\n",
      "\t by frankenstein.mail.umich.edu (Cyrus v2.3.8) with LMTPA;\r\n",
      "\t Sat, 05 Jan 2008 09:14:16 -0500\r\n",
      "X-Sieve: CMU Sieve 2.3\r\n",
      "Received: from murder ([unix socket])\r\n",
      "\t by mail.umich.edu (Cyrus v2.2.12) with LMTPA;\r\n",
      "\t Sat, 05 Jan 2008 09:14:16 -0500\r\n",
      "Received: from holes.mr.itd.umich.edu (holes.mr.itd.umich.edu [141.211.14.79])\r\n",
      "\tby flawless.mail.umich.edu () with ESMTP id m05EEFR1013674;\r\n",
      "\tSat, 5 Jan 2008 09:14:15 -0500\r\n",
      "Received: FROM paploo.uhi.ac.uk (app1.prod.collab.uhi.ac.uk [194.35.219.184])\r\n",
      "\tBY holes.mr.itd.umich.edu ID 477F90B0.2DB2F.12494 ; \r\n",
      "\t 5 Jan 2008 09:14:10 -0500\r\n"
     ]
    }
   ],
   "source": [
    "!head -n15 /cxldata/datasets/project/mbox-short.txt\n"
   ]
  },
  {
   "cell_type": "code",
   "execution_count": 5,
   "metadata": {},
   "outputs": [
    {
     "name": "stdout",
     "output_type": "stream",
     "text": [
      "1910\n"
     ]
    }
   ],
   "source": [
    "def number_of_lines():\n",
    "    fhand = open('/cxldata/datasets/project/mbox-short.txt')\n",
    "    str1 = fhand.read()\n",
    "    count = 0\n",
    "    for word in str1:\n",
    "        if word == '\\n':\n",
    "            count = count+1\n",
    "    fhand.close()\n",
    "    return count\n",
    "print (number_of_lines())"
   ]
  },
  {
   "cell_type": "code",
   "execution_count": 15,
   "metadata": {},
   "outputs": [
    {
     "name": "stdout",
     "output_type": "stream",
     "text": [
      "8272\n"
     ]
    }
   ],
   "source": [
    "\n",
    "    fhand = open('/cxldata/datasets/project/mbox-short.txt')\n",
    "    str1 = fhand.read()\n",
    "    str1 = str1.strip()\n",
    "    list1 = str1.split()\n",
    "    print(len(list1))\n",
    "    \n",
    "    "
   ]
  },
  {
   "cell_type": "code",
   "execution_count": 17,
   "metadata": {},
   "outputs": [
    {
     "name": "stdout",
     "output_type": "stream",
     "text": [
      "0.7507185185185187\n"
     ]
    }
   ],
   "source": [
    "def average_spam_confidence():\n",
    "    fhand = open('/cxldata/datasets/project/mbox-short.txt')\n",
    "    list1 = []\n",
    "    sum1 = 0\n",
    "    count = 0\n",
    "    for line in fhand:\n",
    "        line = line.rstrip()\n",
    "        \n",
    "        if line.startswith(\"X-DSPAM-Confidence\"):\n",
    "            list1 = line.split(':')\n",
    "            sum1 = sum1+ float(list1[1])\n",
    "            count = count+1\n",
    "    fhand.close()\n",
    "    return (sum1/count)\n",
    "print (average_spam_confidence())\n",
    "            "
   ]
  },
  {
   "cell_type": "code",
   "execution_count": 32,
   "metadata": {},
   "outputs": [
    {
     "name": "stdout",
     "output_type": "stream",
     "text": [
      "{'Sat': 1}\n",
      "{'Sat': 1, 'Fri': 1}\n",
      "{'Sat': 1, 'Fri': 2}\n",
      "{'Sat': 1, 'Fri': 3}\n",
      "{'Sat': 1, 'Fri': 4}\n",
      "{'Sat': 1, 'Fri': 5}\n",
      "{'Sat': 1, 'Fri': 6}\n",
      "{'Sat': 1, 'Fri': 7}\n",
      "{'Sat': 1, 'Fri': 8}\n",
      "{'Sat': 1, 'Fri': 9}\n",
      "{'Sat': 1, 'Fri': 10}\n",
      "{'Sat': 1, 'Fri': 11}\n",
      "{'Sat': 1, 'Fri': 12}\n",
      "{'Sat': 1, 'Fri': 13}\n",
      "{'Sat': 1, 'Fri': 14}\n",
      "{'Sat': 1, 'Fri': 15}\n",
      "{'Sat': 1, 'Fri': 16}\n",
      "{'Sat': 1, 'Fri': 17}\n",
      "{'Sat': 1, 'Fri': 18}\n",
      "{'Sat': 1, 'Fri': 19}\n",
      "{'Sat': 1, 'Fri': 20}\n",
      "{'Sat': 1, 'Fri': 20, 'Thu': 1}\n",
      "{'Sat': 1, 'Fri': 20, 'Thu': 2}\n",
      "{'Sat': 1, 'Fri': 20, 'Thu': 3}\n",
      "{'Sat': 1, 'Fri': 20, 'Thu': 4}\n",
      "{'Sat': 1, 'Fri': 20, 'Thu': 5}\n",
      "{'Sat': 1, 'Fri': 20, 'Thu': 6}\n",
      "{'Sat': 1, 'Fri': 20, 'Thu': 6}\n"
     ]
    }
   ],
   "source": [
    "def find_email_sent_days():\n",
    "    fhand = open('/cxldata/datasets/project/mbox-short.txt')\n",
    "    list1 = []\n",
    "    dict1 = {}\n",
    "    for line in fhand:\n",
    "        line = line.strip()\n",
    "        if line.startswith(\"From\"):\n",
    "            list1 = line.split()\n",
    "            try:\n",
    "                dict1[list1[2]]= dict1.get(list1[2],0) + 1\n",
    "                print (dict1)\n",
    "            except:\n",
    "                continue\n",
    "    fhand.close()\n",
    "    return dict1\n",
    "    \n",
    "print (find_email_sent_days())\n",
    "            "
   ]
  },
  {
   "cell_type": "code",
   "execution_count": 30,
   "metadata": {},
   "outputs": [
    {
     "name": "stdout",
     "output_type": "stream",
     "text": [
      "4\n"
     ]
    }
   ],
   "source": []
  },
  {
   "cell_type": "code",
   "execution_count": 63,
   "metadata": {},
   "outputs": [
    {
     "name": "stdout",
     "output_type": "stream",
     "text": [
      "{'uct.ac.za': 6, 'media.berkeley.edu': 4, 'umich.edu': 7, 'iupui.edu': 8, 'caret.cam.ac.uk': 1, 'gmail.com': 1}\n"
     ]
    }
   ],
   "source": [
    "def count_message_from_domain():\n",
    "    fhand = open('/cxldata/datasets/project/mbox-short.txt')\n",
    "    list1 = []\n",
    "    list2 = []\n",
    "    dict1 = {}\n",
    "    for line in fhand:\n",
    "        line = line.strip()\n",
    "        if line.startswith(\"From:\"):\n",
    "            list1 = line.split()\n",
    "            list2 = list1[1].split('@')\n",
    "            try:\n",
    "                dict1[list2[1]] = dict1.get(list2[1],0) +1\n",
    "                \n",
    "            except:\n",
    "                continue\n",
    "    fhand.close()\n",
    "    return dict1\n",
    "\n",
    "print(count_message_from_domain())\n"
   ]
  },
  {
   "cell_type": "code",
   "execution_count": null,
   "metadata": {},
   "outputs": [],
   "source": []
  }
 ],
 "metadata": {
  "kernelspec": {
   "display_name": "Python 3",
   "language": "python",
   "name": "python3"
  },
  "language_info": {
   "codemirror_mode": {
    "name": "ipython",
    "version": 3
   },
   "file_extension": ".py",
   "mimetype": "text/x-python",
   "name": "python",
   "nbconvert_exporter": "python",
   "pygments_lexer": "ipython3",
   "version": "3.6.8"
  },
  "toc": {
   "base_numbering": 1,
   "nav_menu": {},
   "number_sections": true,
   "sideBar": true,
   "skip_h1_title": false,
   "title_cell": "Table of Contents",
   "title_sidebar": "Contents",
   "toc_cell": false,
   "toc_position": {},
   "toc_section_display": true,
   "toc_window_display": false
  }
 },
 "nbformat": 4,
 "nbformat_minor": 2
}
